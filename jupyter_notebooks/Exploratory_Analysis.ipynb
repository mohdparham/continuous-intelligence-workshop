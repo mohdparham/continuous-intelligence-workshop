{
 "cells": [
  {
   "cell_type": "markdown",
   "metadata": {},
   "source": [
    "## Exploratory Analysis using Jupyter Notebook\n",
    "For further reading, we recommend: \n",
    "- [the pandas documentation](http://pandas.pydata.org/pandas-docs/stable/getting_started/10min.html#getting)  for information about using DataFrames\n",
    "- [this blog post](https://towardsdatascience.com/introduction-to-data-visualization-in-python-89a54c97fbed) for a jumpstart into visualizations\n",
    "- [the matplotlib documentation](https://matplotlib.org/users/pyplot_tutorial.html) for more info about visualizations"
   ]
  },
  {
   "cell_type": "code",
   "execution_count": 1,
   "metadata": {},
   "outputs": [],
   "source": [
    "import pandas as pd"
   ]
  },
  {
   "cell_type": "markdown",
   "metadata": {},
   "source": [
    "#### Loading data from our GPC bucket"
   ]
  },
  {
   "cell_type": "code",
   "execution_count": 2,
   "metadata": {},
   "outputs": [],
   "source": [
    "import s3fs\n",
    "s3 = s3fs.S3FileSystem(anon=True)\n",
    "s3.ls('twde-datalab/raw')\n",
    "\n",
    "s3.get('twde-datalab/raw/quito_stores_sample2016-2017.csv', \n",
    "       '../data/quito_stores_sample2016-2017.csv')"
   ]
  },
  {
   "cell_type": "code",
   "execution_count": 3,
   "metadata": {},
   "outputs": [],
   "source": [
    "train = pd.read_csv('../data/quito_stores_sample2016-2017.csv')"
   ]
  },
  {
   "cell_type": "code",
   "execution_count": 8,
   "metadata": {},
   "outputs": [],
   "source": [
    "train.head()\n",
    "data = train"
   ]
  },
  {
   "cell_type": "markdown",
   "metadata": {},
   "source": [
    "#### With just this glimpse, you can start to fill out your list of assumptions, hypotheses, and questions. Some of mine are:\n",
    "- Question: What is the span of dates we are provided?\n",
    "- Question: How many distinct store_nbr values are there?\n",
    "- Question: How many distinct item_nbr values are there?\n",
    "- Hypothesis: unit_sales are always positive\n",
    "- Hypothesis: onpromotion is always either True or False\n",
    "- Hypothesis: city and state are always going to be Quito and Pichincha\n",
    "- Hypothesis: cluster is always 5\n",
    "- Question: What does cluster mean and is it important to know?\n",
    "- Question: How many records does the data contain?\n",
    "- Question: What other data files are available?"
   ]
  },
  {
   "cell_type": "markdown",
   "metadata": {},
   "source": [
    "### Here's some examples of how to address those first questions"
   ]
  },
  {
   "cell_type": "code",
   "execution_count": null,
   "metadata": {},
   "outputs": [
    {
     "name": "stdout",
     "output_type": "stream",
     "text": [
      "2016-08-16\n",
      "2017-08-15\n"
     ]
    }
   ],
   "source": [
    "# Access an entire dataframe column like you would\n",
    "# the value in a python dictionary:\n",
    "# (The returned object has similar pandas built-in \n",
    "# functions, like 'head' and 'max')\n",
    "print(data['date'].min())\n",
    "print(data['date'].max())"
   ]
  },
  {
   "cell_type": "code",
   "execution_count": 10,
   "metadata": {},
   "outputs": [
    {
     "data": {
      "text/plain": [
       "array([44, 45, 46, 47, 48, 49])"
      ]
     },
     "execution_count": 10,
     "metadata": {},
     "output_type": "execute_result"
    }
   ],
   "source": [
    "# Dataframe columns also have a 'unique' method,\n",
    "# which can answer several of our questions from above\n",
    "data['store_nbr'].unique()"
   ]
  },
  {
   "cell_type": "code",
   "execution_count": 11,
   "metadata": {},
   "outputs": [
    {
     "name": "stdout",
     "output_type": "stream",
     "text": [
      "[ 103520  103665  105574 ... 2011468 2011448 2123839]\n",
      "There are too many item numbers to display, so let's just count them for now:\n",
      "\n",
      "3717 different item_nbr values in our data\n"
     ]
    }
   ],
   "source": [
    "print(data['item_nbr'].unique())\n",
    "print(\"There are too many item numbers to display, so let's just count them for now:\")\n",
    "print(\"\\n{} different item_nbr values in our data\"\n",
    "          .format(len(data['item_nbr'].unique())))"
   ]
  },
  {
   "cell_type": "markdown",
   "metadata": {},
   "source": [
    "#### It might be helpful to know the 'shape' of our data. We could count by hand (for now) the columns, but how many rows do we have altogether?"
   ]
  },
  {
   "cell_type": "code",
   "execution_count": 12,
   "metadata": {},
   "outputs": [
    {
     "name": "stdout",
     "output_type": "stream",
     "text": [
      "(5877318, 9)\n",
      "There are 5877318 rows and 9 columns in our data\n"
     ]
    }
   ],
   "source": [
    "print(data.shape)\n",
    "print(\"There are {} rows and {} columns in our data\".format(data.shape[0], data.shape[1]))"
   ]
  },
  {
   "cell_type": "markdown",
   "metadata": {},
   "source": [
    "#### Moving along to answer our intial questions... Let's have a look at unit_sales. Keep in mind that unit sales is the variable we want to predict with our science.\n",
    "\n",
    "Each row in our data is essentially telling us a `unit_sales` number for a given `item_nbr` at a given `store_nbr` on a given `date`. That is, \"how many of an item was sold at a store on a day\"."
   ]
  }
 ],
 "metadata": {
  "kernelspec": {
   "display_name": "Python 3",
   "language": "python",
   "name": "python3"
  },
  "language_info": {
   "codemirror_mode": {
    "name": "ipython",
    "version": 3
   },
   "file_extension": ".py",
   "mimetype": "text/x-python",
   "name": "python",
   "nbconvert_exporter": "python",
   "pygments_lexer": "ipython3",
   "version": "3.7.3"
  }
 },
 "nbformat": 4,
 "nbformat_minor": 2
}
